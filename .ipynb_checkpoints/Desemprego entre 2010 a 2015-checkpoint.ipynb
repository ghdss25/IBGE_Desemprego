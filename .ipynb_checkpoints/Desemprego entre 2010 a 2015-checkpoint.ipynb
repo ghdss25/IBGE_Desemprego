{
 "cells": [
  {
   "cell_type": "markdown",
   "id": "14b3726d",
   "metadata": {},
   "source": [
    "## Análise de Dados sobre o Desemprego de 2010 a 2015"
   ]
  },
  {
   "cell_type": "markdown",
   "id": "b6be8c82",
   "metadata": {},
   "source": [
    "* Foi disponibilizado pela Instituição Data Science Academy uma planilha de dados em excel, que cujo o objetivo\n",
    "\n",
    "* é mostrar a taxa de desemprego no Brasil, entre os anos de 2010 a 2015. \n",
    "\n",
    "* Nessa analise é possivel encontrar a faixa étaria de idade, Mês, Ano, Total de Desempregados e Sexo.\n",
    "\n",
    "* Esse Dataset foi retirado do site do IBGE.\n",
    "\n",
    "* Seu papel é criar uma análise de dados de diferentes visões, com clareza absoluta nos dados, diversificar \n",
    "* em diferentes angulos um resultado padronizado, fazendo com que fique possível para o úsuario entender no que \n",
    "* se passa os Dados"
   ]
  },
  {
   "cell_type": "markdown",
   "id": "f18e55c6",
   "metadata": {},
   "source": [
    "## Passos para a realização do desafio de Desemprego"
   ]
  },
  {
   "cell_type": "markdown",
   "id": "e59bf699",
   "metadata": {},
   "source": [
    "** Vamos realizar a analise de dados com na gerência do sexo e faixa étaria de idade ** \n",
    "\n",
    "* Importar as bibliotecas principais \n",
    "* Ler o Dataset de Desemprego\n",
    "* Vamos Inserir mais uma coluna chamada Ano \n",
    "* Vamos Inserir o tratamento de dados, para verificar se existe dados nulos na planilha\n",
    "* Vamos verificar se tém o dados duplicados \n",
    "* Vamos obter cálculos básicos para obter a taxa de desemprego por faixa étaria e sexo\n",
    "* Usaremos bibliotecas congruentes para inserir relátorios de diversas opções para mostrar \n",
    "\n",
    "índicies exclusivos sobre o desemprego \n",
    "\n",
    "** Análise vai ser feita da seguinte maneira ** \n",
    "\n",
    "* Total de Desempregados por Faixa Étaria \n",
    "* Total de Desempregos por Sexo \n",
    "* Total de Desempregados por Ano \n",
    "* Total de Desempregados por Mês\n",
    "\n",
    "\n",
    "* Média de Desempregados por Faixa Étaria \n",
    "* Média de Desempregos por Sexo \n",
    "* Média de Desempregados por Ano \n",
    "* Média de Desempregados por Mês"
   ]
  },
  {
   "cell_type": "markdown",
   "id": "6c170631",
   "metadata": {},
   "source": [
    "## Importando as bibliotecas"
   ]
  },
  {
   "cell_type": "code",
   "execution_count": 93,
   "id": "64c6b1c7",
   "metadata": {},
   "outputs": [],
   "source": [
    "import pandas as pd \n",
    "import numpy as np \n",
    "import matplotlib.pyplot as plt \n",
    "import seaborn as sns\n",
    "import datetime\n",
    "import sweetviz as sv"
   ]
  },
  {
   "cell_type": "markdown",
   "id": "17d60863",
   "metadata": {},
   "source": [
    "## Lendo o Dataset de Desempregados"
   ]
  },
  {
   "cell_type": "code",
   "execution_count": 36,
   "id": "7699a5f9",
   "metadata": {},
   "outputs": [
    {
     "data": {
      "text/html": [
       "<div>\n",
       "<style scoped>\n",
       "    .dataframe tbody tr th:only-of-type {\n",
       "        vertical-align: middle;\n",
       "    }\n",
       "\n",
       "    .dataframe tbody tr th {\n",
       "        vertical-align: top;\n",
       "    }\n",
       "\n",
       "    .dataframe thead th {\n",
       "        text-align: right;\n",
       "    }\n",
       "</style>\n",
       "<table border=\"1\" class=\"dataframe\">\n",
       "  <thead>\n",
       "    <tr style=\"text-align: right;\">\n",
       "      <th></th>\n",
       "      <th>Sexo</th>\n",
       "      <th>Periodo</th>\n",
       "      <th>Range_Idade</th>\n",
       "      <th>Total_Desempregados</th>\n",
       "    </tr>\n",
       "  </thead>\n",
       "  <tbody>\n",
       "    <tr>\n",
       "      <th>0</th>\n",
       "      <td>Masculino</td>\n",
       "      <td>2010-01-01</td>\n",
       "      <td>16 to 19 anos</td>\n",
       "      <td>200000</td>\n",
       "    </tr>\n",
       "    <tr>\n",
       "      <th>1</th>\n",
       "      <td>Masculino</td>\n",
       "      <td>2010-01-01</td>\n",
       "      <td>20 to 24 anos</td>\n",
       "      <td>480000</td>\n",
       "    </tr>\n",
       "    <tr>\n",
       "      <th>2</th>\n",
       "      <td>Masculino</td>\n",
       "      <td>2010-01-01</td>\n",
       "      <td>25 to 34 anos</td>\n",
       "      <td>690000</td>\n",
       "    </tr>\n",
       "    <tr>\n",
       "      <th>3</th>\n",
       "      <td>Masculino</td>\n",
       "      <td>2010-01-01</td>\n",
       "      <td>35 to 44 anos</td>\n",
       "      <td>551000</td>\n",
       "    </tr>\n",
       "    <tr>\n",
       "      <th>4</th>\n",
       "      <td>Masculino</td>\n",
       "      <td>2010-01-01</td>\n",
       "      <td>45 to 54 anos</td>\n",
       "      <td>563000</td>\n",
       "    </tr>\n",
       "    <tr>\n",
       "      <th>...</th>\n",
       "      <td>...</td>\n",
       "      <td>...</td>\n",
       "      <td>...</td>\n",
       "      <td>...</td>\n",
       "    </tr>\n",
       "    <tr>\n",
       "      <th>863</th>\n",
       "      <td>Feminino</td>\n",
       "      <td>2015-02-01</td>\n",
       "      <td>25 to 34 anos</td>\n",
       "      <td>294000</td>\n",
       "    </tr>\n",
       "    <tr>\n",
       "      <th>864</th>\n",
       "      <td>Feminino</td>\n",
       "      <td>2015-02-01</td>\n",
       "      <td>35 to 44 anos</td>\n",
       "      <td>235000</td>\n",
       "    </tr>\n",
       "    <tr>\n",
       "      <th>865</th>\n",
       "      <td>Feminino</td>\n",
       "      <td>2015-02-01</td>\n",
       "      <td>45 to 54 anos</td>\n",
       "      <td>253000</td>\n",
       "    </tr>\n",
       "    <tr>\n",
       "      <th>866</th>\n",
       "      <td>Feminino</td>\n",
       "      <td>2015-02-01</td>\n",
       "      <td>55 to 64 anos</td>\n",
       "      <td>170000</td>\n",
       "    </tr>\n",
       "    <tr>\n",
       "      <th>867</th>\n",
       "      <td>Feminino</td>\n",
       "      <td>2015-02-01</td>\n",
       "      <td>65 anos e acima</td>\n",
       "      <td>174000</td>\n",
       "    </tr>\n",
       "  </tbody>\n",
       "</table>\n",
       "<p>868 rows × 4 columns</p>\n",
       "</div>"
      ],
      "text/plain": [
       "          Sexo    Periodo      Range_Idade  Total_Desempregados\n",
       "0    Masculino 2010-01-01    16 to 19 anos               200000\n",
       "1    Masculino 2010-01-01    20 to 24 anos               480000\n",
       "2    Masculino 2010-01-01    25 to 34 anos               690000\n",
       "3    Masculino 2010-01-01    35 to 44 anos               551000\n",
       "4    Masculino 2010-01-01    45 to 54 anos               563000\n",
       "..         ...        ...              ...                  ...\n",
       "863   Feminino 2015-02-01    25 to 34 anos               294000\n",
       "864   Feminino 2015-02-01    35 to 44 anos               235000\n",
       "865   Feminino 2015-02-01    45 to 54 anos               253000\n",
       "866   Feminino 2015-02-01    55 to 64 anos               170000\n",
       "867   Feminino 2015-02-01  65 anos e acima               174000\n",
       "\n",
       "[868 rows x 4 columns]"
      ]
     },
     "execution_count": 36,
     "metadata": {},
     "output_type": "execute_result"
    }
   ],
   "source": [
    "data = pd.read_excel(\"Desemprego-2010-2015.xlsx\")\n",
    "\n",
    "data"
   ]
  },
  {
   "cell_type": "markdown",
   "id": "d99b2a23",
   "metadata": {},
   "source": [
    "## Inserindo a coluna ano, mês e dia"
   ]
  },
  {
   "cell_type": "code",
   "execution_count": 37,
   "id": "99d071e1",
   "metadata": {},
   "outputs": [
    {
     "data": {
      "text/html": [
       "<div>\n",
       "<style scoped>\n",
       "    .dataframe tbody tr th:only-of-type {\n",
       "        vertical-align: middle;\n",
       "    }\n",
       "\n",
       "    .dataframe tbody tr th {\n",
       "        vertical-align: top;\n",
       "    }\n",
       "\n",
       "    .dataframe thead th {\n",
       "        text-align: right;\n",
       "    }\n",
       "</style>\n",
       "<table border=\"1\" class=\"dataframe\">\n",
       "  <thead>\n",
       "    <tr style=\"text-align: right;\">\n",
       "      <th></th>\n",
       "      <th>Sexo</th>\n",
       "      <th>Periodo</th>\n",
       "      <th>Range_Idade</th>\n",
       "      <th>Total_Desempregados</th>\n",
       "      <th>Dia</th>\n",
       "      <th>Ano</th>\n",
       "      <th>Mês</th>\n",
       "    </tr>\n",
       "  </thead>\n",
       "  <tbody>\n",
       "    <tr>\n",
       "      <th>0</th>\n",
       "      <td>Masculino</td>\n",
       "      <td>2010-01-01</td>\n",
       "      <td>16 to 19 anos</td>\n",
       "      <td>200000</td>\n",
       "      <td>1</td>\n",
       "      <td>2010</td>\n",
       "      <td>1</td>\n",
       "    </tr>\n",
       "    <tr>\n",
       "      <th>1</th>\n",
       "      <td>Masculino</td>\n",
       "      <td>2010-01-01</td>\n",
       "      <td>20 to 24 anos</td>\n",
       "      <td>480000</td>\n",
       "      <td>1</td>\n",
       "      <td>2010</td>\n",
       "      <td>1</td>\n",
       "    </tr>\n",
       "    <tr>\n",
       "      <th>2</th>\n",
       "      <td>Masculino</td>\n",
       "      <td>2010-01-01</td>\n",
       "      <td>25 to 34 anos</td>\n",
       "      <td>690000</td>\n",
       "      <td>1</td>\n",
       "      <td>2010</td>\n",
       "      <td>1</td>\n",
       "    </tr>\n",
       "    <tr>\n",
       "      <th>3</th>\n",
       "      <td>Masculino</td>\n",
       "      <td>2010-01-01</td>\n",
       "      <td>35 to 44 anos</td>\n",
       "      <td>551000</td>\n",
       "      <td>1</td>\n",
       "      <td>2010</td>\n",
       "      <td>1</td>\n",
       "    </tr>\n",
       "    <tr>\n",
       "      <th>4</th>\n",
       "      <td>Masculino</td>\n",
       "      <td>2010-01-01</td>\n",
       "      <td>45 to 54 anos</td>\n",
       "      <td>563000</td>\n",
       "      <td>1</td>\n",
       "      <td>2010</td>\n",
       "      <td>1</td>\n",
       "    </tr>\n",
       "    <tr>\n",
       "      <th>...</th>\n",
       "      <td>...</td>\n",
       "      <td>...</td>\n",
       "      <td>...</td>\n",
       "      <td>...</td>\n",
       "      <td>...</td>\n",
       "      <td>...</td>\n",
       "      <td>...</td>\n",
       "    </tr>\n",
       "    <tr>\n",
       "      <th>863</th>\n",
       "      <td>Feminino</td>\n",
       "      <td>2015-02-01</td>\n",
       "      <td>25 to 34 anos</td>\n",
       "      <td>294000</td>\n",
       "      <td>1</td>\n",
       "      <td>2015</td>\n",
       "      <td>2</td>\n",
       "    </tr>\n",
       "    <tr>\n",
       "      <th>864</th>\n",
       "      <td>Feminino</td>\n",
       "      <td>2015-02-01</td>\n",
       "      <td>35 to 44 anos</td>\n",
       "      <td>235000</td>\n",
       "      <td>1</td>\n",
       "      <td>2015</td>\n",
       "      <td>2</td>\n",
       "    </tr>\n",
       "    <tr>\n",
       "      <th>865</th>\n",
       "      <td>Feminino</td>\n",
       "      <td>2015-02-01</td>\n",
       "      <td>45 to 54 anos</td>\n",
       "      <td>253000</td>\n",
       "      <td>1</td>\n",
       "      <td>2015</td>\n",
       "      <td>2</td>\n",
       "    </tr>\n",
       "    <tr>\n",
       "      <th>866</th>\n",
       "      <td>Feminino</td>\n",
       "      <td>2015-02-01</td>\n",
       "      <td>55 to 64 anos</td>\n",
       "      <td>170000</td>\n",
       "      <td>1</td>\n",
       "      <td>2015</td>\n",
       "      <td>2</td>\n",
       "    </tr>\n",
       "    <tr>\n",
       "      <th>867</th>\n",
       "      <td>Feminino</td>\n",
       "      <td>2015-02-01</td>\n",
       "      <td>65 anos e acima</td>\n",
       "      <td>174000</td>\n",
       "      <td>1</td>\n",
       "      <td>2015</td>\n",
       "      <td>2</td>\n",
       "    </tr>\n",
       "  </tbody>\n",
       "</table>\n",
       "<p>868 rows × 7 columns</p>\n",
       "</div>"
      ],
      "text/plain": [
       "          Sexo    Periodo      Range_Idade  Total_Desempregados  Dia   Ano  \\\n",
       "0    Masculino 2010-01-01    16 to 19 anos               200000    1  2010   \n",
       "1    Masculino 2010-01-01    20 to 24 anos               480000    1  2010   \n",
       "2    Masculino 2010-01-01    25 to 34 anos               690000    1  2010   \n",
       "3    Masculino 2010-01-01    35 to 44 anos               551000    1  2010   \n",
       "4    Masculino 2010-01-01    45 to 54 anos               563000    1  2010   \n",
       "..         ...        ...              ...                  ...  ...   ...   \n",
       "863   Feminino 2015-02-01    25 to 34 anos               294000    1  2015   \n",
       "864   Feminino 2015-02-01    35 to 44 anos               235000    1  2015   \n",
       "865   Feminino 2015-02-01    45 to 54 anos               253000    1  2015   \n",
       "866   Feminino 2015-02-01    55 to 64 anos               170000    1  2015   \n",
       "867   Feminino 2015-02-01  65 anos e acima               174000    1  2015   \n",
       "\n",
       "     Mês  \n",
       "0      1  \n",
       "1      1  \n",
       "2      1  \n",
       "3      1  \n",
       "4      1  \n",
       "..   ...  \n",
       "863    2  \n",
       "864    2  \n",
       "865    2  \n",
       "866    2  \n",
       "867    2  \n",
       "\n",
       "[868 rows x 7 columns]"
      ]
     },
     "execution_count": 37,
     "metadata": {},
     "output_type": "execute_result"
    }
   ],
   "source": [
    "data[\"Dia\"] = pd.DatetimeIndex(data[\"Periodo\"]).day\n",
    "data[\"Ano\"] = pd.DatetimeIndex(data[\"Periodo\"]).year \n",
    "data[\"Mês\"] = pd.DatetimeIndex(data[\"Periodo\"]).month\n",
    "\n",
    "data"
   ]
  },
  {
   "cell_type": "markdown",
   "id": "bdeb140e",
   "metadata": {},
   "source": [
    "## Deletando a coluna Periodo"
   ]
  },
  {
   "cell_type": "code",
   "execution_count": 38,
   "id": "a9ef9b23",
   "metadata": {},
   "outputs": [
    {
     "data": {
      "text/html": [
       "<div>\n",
       "<style scoped>\n",
       "    .dataframe tbody tr th:only-of-type {\n",
       "        vertical-align: middle;\n",
       "    }\n",
       "\n",
       "    .dataframe tbody tr th {\n",
       "        vertical-align: top;\n",
       "    }\n",
       "\n",
       "    .dataframe thead th {\n",
       "        text-align: right;\n",
       "    }\n",
       "</style>\n",
       "<table border=\"1\" class=\"dataframe\">\n",
       "  <thead>\n",
       "    <tr style=\"text-align: right;\">\n",
       "      <th></th>\n",
       "      <th>Sexo</th>\n",
       "      <th>Range_Idade</th>\n",
       "      <th>Total_Desempregados</th>\n",
       "      <th>Dia</th>\n",
       "      <th>Ano</th>\n",
       "      <th>Mês</th>\n",
       "    </tr>\n",
       "  </thead>\n",
       "  <tbody>\n",
       "    <tr>\n",
       "      <th>0</th>\n",
       "      <td>Masculino</td>\n",
       "      <td>16 to 19 anos</td>\n",
       "      <td>200000</td>\n",
       "      <td>1</td>\n",
       "      <td>2010</td>\n",
       "      <td>1</td>\n",
       "    </tr>\n",
       "    <tr>\n",
       "      <th>1</th>\n",
       "      <td>Masculino</td>\n",
       "      <td>20 to 24 anos</td>\n",
       "      <td>480000</td>\n",
       "      <td>1</td>\n",
       "      <td>2010</td>\n",
       "      <td>1</td>\n",
       "    </tr>\n",
       "    <tr>\n",
       "      <th>2</th>\n",
       "      <td>Masculino</td>\n",
       "      <td>25 to 34 anos</td>\n",
       "      <td>690000</td>\n",
       "      <td>1</td>\n",
       "      <td>2010</td>\n",
       "      <td>1</td>\n",
       "    </tr>\n",
       "    <tr>\n",
       "      <th>3</th>\n",
       "      <td>Masculino</td>\n",
       "      <td>35 to 44 anos</td>\n",
       "      <td>551000</td>\n",
       "      <td>1</td>\n",
       "      <td>2010</td>\n",
       "      <td>1</td>\n",
       "    </tr>\n",
       "    <tr>\n",
       "      <th>4</th>\n",
       "      <td>Masculino</td>\n",
       "      <td>45 to 54 anos</td>\n",
       "      <td>563000</td>\n",
       "      <td>1</td>\n",
       "      <td>2010</td>\n",
       "      <td>1</td>\n",
       "    </tr>\n",
       "    <tr>\n",
       "      <th>5</th>\n",
       "      <td>Masculino</td>\n",
       "      <td>55 to 64 anos</td>\n",
       "      <td>480000</td>\n",
       "      <td>1</td>\n",
       "      <td>2010</td>\n",
       "      <td>1</td>\n",
       "    </tr>\n",
       "    <tr>\n",
       "      <th>6</th>\n",
       "      <td>Masculino</td>\n",
       "      <td>65 anos e acima</td>\n",
       "      <td>130000</td>\n",
       "      <td>1</td>\n",
       "      <td>2010</td>\n",
       "      <td>1</td>\n",
       "    </tr>\n",
       "    <tr>\n",
       "      <th>7</th>\n",
       "      <td>Feminino</td>\n",
       "      <td>16 to 19 anos</td>\n",
       "      <td>139000</td>\n",
       "      <td>1</td>\n",
       "      <td>2010</td>\n",
       "      <td>1</td>\n",
       "    </tr>\n",
       "    <tr>\n",
       "      <th>8</th>\n",
       "      <td>Feminino</td>\n",
       "      <td>20 to 24 anos</td>\n",
       "      <td>239000</td>\n",
       "      <td>1</td>\n",
       "      <td>2010</td>\n",
       "      <td>1</td>\n",
       "    </tr>\n",
       "    <tr>\n",
       "      <th>9</th>\n",
       "      <td>Feminino</td>\n",
       "      <td>25 to 34 anos</td>\n",
       "      <td>559000</td>\n",
       "      <td>1</td>\n",
       "      <td>2010</td>\n",
       "      <td>1</td>\n",
       "    </tr>\n",
       "    <tr>\n",
       "      <th>10</th>\n",
       "      <td>Feminino</td>\n",
       "      <td>35 to 44 anos</td>\n",
       "      <td>551000</td>\n",
       "      <td>1</td>\n",
       "      <td>2010</td>\n",
       "      <td>1</td>\n",
       "    </tr>\n",
       "    <tr>\n",
       "      <th>11</th>\n",
       "      <td>Feminino</td>\n",
       "      <td>45 to 54 anos</td>\n",
       "      <td>536000</td>\n",
       "      <td>1</td>\n",
       "      <td>2010</td>\n",
       "      <td>1</td>\n",
       "    </tr>\n",
       "  </tbody>\n",
       "</table>\n",
       "</div>"
      ],
      "text/plain": [
       "         Sexo      Range_Idade  Total_Desempregados  Dia   Ano  Mês\n",
       "0   Masculino    16 to 19 anos               200000    1  2010    1\n",
       "1   Masculino    20 to 24 anos               480000    1  2010    1\n",
       "2   Masculino    25 to 34 anos               690000    1  2010    1\n",
       "3   Masculino    35 to 44 anos               551000    1  2010    1\n",
       "4   Masculino    45 to 54 anos               563000    1  2010    1\n",
       "5   Masculino    55 to 64 anos               480000    1  2010    1\n",
       "6   Masculino  65 anos e acima               130000    1  2010    1\n",
       "7    Feminino    16 to 19 anos               139000    1  2010    1\n",
       "8    Feminino    20 to 24 anos               239000    1  2010    1\n",
       "9    Feminino    25 to 34 anos               559000    1  2010    1\n",
       "10   Feminino    35 to 44 anos               551000    1  2010    1\n",
       "11   Feminino    45 to 54 anos               536000    1  2010    1"
      ]
     },
     "execution_count": 38,
     "metadata": {},
     "output_type": "execute_result"
    }
   ],
   "source": [
    "data = data.drop(columns=['Periodo'])\n",
    "data.head(12)"
   ]
  },
  {
   "cell_type": "markdown",
   "id": "1bbfb368",
   "metadata": {},
   "source": [
    "## Tratamento de dados"
   ]
  },
  {
   "cell_type": "code",
   "execution_count": 39,
   "id": "a5d6cccc",
   "metadata": {},
   "outputs": [
    {
     "data": {
      "text/html": [
       "<div>\n",
       "<style scoped>\n",
       "    .dataframe tbody tr th:only-of-type {\n",
       "        vertical-align: middle;\n",
       "    }\n",
       "\n",
       "    .dataframe tbody tr th {\n",
       "        vertical-align: top;\n",
       "    }\n",
       "\n",
       "    .dataframe thead th {\n",
       "        text-align: right;\n",
       "    }\n",
       "</style>\n",
       "<table border=\"1\" class=\"dataframe\">\n",
       "  <thead>\n",
       "    <tr style=\"text-align: right;\">\n",
       "      <th></th>\n",
       "      <th>Sexo</th>\n",
       "      <th>Range_Idade</th>\n",
       "      <th>Total_Desempregados</th>\n",
       "      <th>Dia</th>\n",
       "      <th>Ano</th>\n",
       "      <th>Mês</th>\n",
       "    </tr>\n",
       "  </thead>\n",
       "  <tbody>\n",
       "    <tr>\n",
       "      <th>0</th>\n",
       "      <td>False</td>\n",
       "      <td>False</td>\n",
       "      <td>False</td>\n",
       "      <td>False</td>\n",
       "      <td>False</td>\n",
       "      <td>False</td>\n",
       "    </tr>\n",
       "    <tr>\n",
       "      <th>1</th>\n",
       "      <td>False</td>\n",
       "      <td>False</td>\n",
       "      <td>False</td>\n",
       "      <td>False</td>\n",
       "      <td>False</td>\n",
       "      <td>False</td>\n",
       "    </tr>\n",
       "    <tr>\n",
       "      <th>2</th>\n",
       "      <td>False</td>\n",
       "      <td>False</td>\n",
       "      <td>False</td>\n",
       "      <td>False</td>\n",
       "      <td>False</td>\n",
       "      <td>False</td>\n",
       "    </tr>\n",
       "    <tr>\n",
       "      <th>3</th>\n",
       "      <td>False</td>\n",
       "      <td>False</td>\n",
       "      <td>False</td>\n",
       "      <td>False</td>\n",
       "      <td>False</td>\n",
       "      <td>False</td>\n",
       "    </tr>\n",
       "    <tr>\n",
       "      <th>4</th>\n",
       "      <td>False</td>\n",
       "      <td>False</td>\n",
       "      <td>False</td>\n",
       "      <td>False</td>\n",
       "      <td>False</td>\n",
       "      <td>False</td>\n",
       "    </tr>\n",
       "    <tr>\n",
       "      <th>...</th>\n",
       "      <td>...</td>\n",
       "      <td>...</td>\n",
       "      <td>...</td>\n",
       "      <td>...</td>\n",
       "      <td>...</td>\n",
       "      <td>...</td>\n",
       "    </tr>\n",
       "    <tr>\n",
       "      <th>863</th>\n",
       "      <td>False</td>\n",
       "      <td>False</td>\n",
       "      <td>False</td>\n",
       "      <td>False</td>\n",
       "      <td>False</td>\n",
       "      <td>False</td>\n",
       "    </tr>\n",
       "    <tr>\n",
       "      <th>864</th>\n",
       "      <td>False</td>\n",
       "      <td>False</td>\n",
       "      <td>False</td>\n",
       "      <td>False</td>\n",
       "      <td>False</td>\n",
       "      <td>False</td>\n",
       "    </tr>\n",
       "    <tr>\n",
       "      <th>865</th>\n",
       "      <td>False</td>\n",
       "      <td>False</td>\n",
       "      <td>False</td>\n",
       "      <td>False</td>\n",
       "      <td>False</td>\n",
       "      <td>False</td>\n",
       "    </tr>\n",
       "    <tr>\n",
       "      <th>866</th>\n",
       "      <td>False</td>\n",
       "      <td>False</td>\n",
       "      <td>False</td>\n",
       "      <td>False</td>\n",
       "      <td>False</td>\n",
       "      <td>False</td>\n",
       "    </tr>\n",
       "    <tr>\n",
       "      <th>867</th>\n",
       "      <td>False</td>\n",
       "      <td>False</td>\n",
       "      <td>False</td>\n",
       "      <td>False</td>\n",
       "      <td>False</td>\n",
       "      <td>False</td>\n",
       "    </tr>\n",
       "  </tbody>\n",
       "</table>\n",
       "<p>868 rows × 6 columns</p>\n",
       "</div>"
      ],
      "text/plain": [
       "      Sexo  Range_Idade  Total_Desempregados    Dia    Ano    Mês\n",
       "0    False        False                False  False  False  False\n",
       "1    False        False                False  False  False  False\n",
       "2    False        False                False  False  False  False\n",
       "3    False        False                False  False  False  False\n",
       "4    False        False                False  False  False  False\n",
       "..     ...          ...                  ...    ...    ...    ...\n",
       "863  False        False                False  False  False  False\n",
       "864  False        False                False  False  False  False\n",
       "865  False        False                False  False  False  False\n",
       "866  False        False                False  False  False  False\n",
       "867  False        False                False  False  False  False\n",
       "\n",
       "[868 rows x 6 columns]"
      ]
     },
     "execution_count": 39,
     "metadata": {},
     "output_type": "execute_result"
    }
   ],
   "source": [
    "# Verificando valores faltantes \n",
    "data.isnull()"
   ]
  },
  {
   "cell_type": "code",
   "execution_count": 40,
   "id": "62b7c114",
   "metadata": {},
   "outputs": [
    {
     "data": {
      "text/plain": [
       "Sexo                   0\n",
       "Range_Idade            0\n",
       "Total_Desempregados    0\n",
       "Dia                    0\n",
       "Ano                    0\n",
       "Mês                    0\n",
       "dtype: int64"
      ]
     },
     "execution_count": 40,
     "metadata": {},
     "output_type": "execute_result"
    }
   ],
   "source": [
    "# Somando a verificação de dados faltantes\n",
    "data.isna().sum()"
   ]
  },
  {
   "cell_type": "code",
   "execution_count": 41,
   "id": "1931bf1c",
   "metadata": {},
   "outputs": [
    {
     "data": {
      "text/plain": [
       "0"
      ]
     },
     "execution_count": 41,
     "metadata": {},
     "output_type": "execute_result"
    }
   ],
   "source": [
    "# Somátorio geral de verificação de dados faltantes\n",
    "data.isna().sum().sum()"
   ]
  },
  {
   "cell_type": "markdown",
   "id": "5aa032ed",
   "metadata": {},
   "source": [
    "## Observando dados duplicados"
   ]
  },
  {
   "cell_type": "code",
   "execution_count": 42,
   "id": "942d8459",
   "metadata": {},
   "outputs": [
    {
     "data": {
      "text/plain": [
       "0      False\n",
       "1      False\n",
       "2      False\n",
       "3      False\n",
       "4      False\n",
       "       ...  \n",
       "863    False\n",
       "864    False\n",
       "865    False\n",
       "866    False\n",
       "867    False\n",
       "Length: 868, dtype: bool"
      ]
     },
     "execution_count": 42,
     "metadata": {},
     "output_type": "execute_result"
    }
   ],
   "source": [
    "data.duplicated()"
   ]
  },
  {
   "cell_type": "code",
   "execution_count": 43,
   "id": "e77511cb",
   "metadata": {},
   "outputs": [
    {
     "data": {
      "text/plain": [
       "868"
      ]
     },
     "execution_count": 43,
     "metadata": {},
     "output_type": "execute_result"
    }
   ],
   "source": [
    "data = data.drop_duplicates()\n",
    "datacount = data.count()[0]\n",
    "\n",
    "datacount"
   ]
  },
  {
   "cell_type": "code",
   "execution_count": 44,
   "id": "87696dd4",
   "metadata": {},
   "outputs": [
    {
     "data": {
      "text/html": [
       "<div>\n",
       "<style scoped>\n",
       "    .dataframe tbody tr th:only-of-type {\n",
       "        vertical-align: middle;\n",
       "    }\n",
       "\n",
       "    .dataframe tbody tr th {\n",
       "        vertical-align: top;\n",
       "    }\n",
       "\n",
       "    .dataframe thead th {\n",
       "        text-align: right;\n",
       "    }\n",
       "</style>\n",
       "<table border=\"1\" class=\"dataframe\">\n",
       "  <thead>\n",
       "    <tr style=\"text-align: right;\">\n",
       "      <th></th>\n",
       "      <th>Total</th>\n",
       "    </tr>\n",
       "  </thead>\n",
       "  <tbody>\n",
       "    <tr>\n",
       "      <th>0</th>\n",
       "      <td>868</td>\n",
       "    </tr>\n",
       "  </tbody>\n",
       "</table>\n",
       "</div>"
      ],
      "text/plain": [
       "   Total\n",
       "0    868"
      ]
     },
     "execution_count": 44,
     "metadata": {},
     "output_type": "execute_result"
    }
   ],
   "source": [
    "pd.DataFrame({\"Total\" : [datacount]})"
   ]
  },
  {
   "cell_type": "markdown",
   "id": "76fe6af8",
   "metadata": {},
   "source": [
    "## Informações sobre o Dataset de Desemprego"
   ]
  },
  {
   "cell_type": "code",
   "execution_count": 45,
   "id": "cb9bf918",
   "metadata": {},
   "outputs": [
    {
     "name": "stdout",
     "output_type": "stream",
     "text": [
      "<class 'pandas.core.frame.DataFrame'>\n",
      "Int64Index: 868 entries, 0 to 867\n",
      "Data columns (total 6 columns):\n",
      " #   Column               Non-Null Count  Dtype \n",
      "---  ------               --------------  ----- \n",
      " 0   Sexo                 868 non-null    object\n",
      " 1   Range_Idade          868 non-null    object\n",
      " 2   Total_Desempregados  868 non-null    int64 \n",
      " 3   Dia                  868 non-null    int64 \n",
      " 4   Ano                  868 non-null    int64 \n",
      " 5   Mês                  868 non-null    int64 \n",
      "dtypes: int64(4), object(2)\n",
      "memory usage: 47.5+ KB\n"
     ]
    }
   ],
   "source": [
    "data.info()"
   ]
  },
  {
   "cell_type": "markdown",
   "id": "793dd4c2",
   "metadata": {},
   "source": [
    "## Estátistica do Dataset de Desemprego"
   ]
  },
  {
   "cell_type": "markdown",
   "id": "2b3f4c77",
   "metadata": {},
   "source": [
    "data.describe()"
   ]
  },
  {
   "cell_type": "markdown",
   "id": "401dbc35",
   "metadata": {},
   "source": [
    "## Analisando o dataset"
   ]
  },
  {
   "cell_type": "code",
   "execution_count": 46,
   "id": "253f6b36",
   "metadata": {},
   "outputs": [
    {
     "data": {
      "application/vnd.jupyter.widget-view+json": {
       "model_id": "28f5254facce45afbe8267665eefe78c",
       "version_major": 2,
       "version_minor": 0
      },
      "text/plain": [
       "                                             |          | [  0%]   00:00 -> (? left)"
      ]
     },
     "metadata": {},
     "output_type": "display_data"
    },
    {
     "name": "stdout",
     "output_type": "stream",
     "text": [
      "Report eda_report.html was generated! NOTEBOOK/COLAB USERS: the web browser MAY not pop up, regardless, the report IS saved in your notebook/colab files.\n"
     ]
    }
   ],
   "source": [
    "report=sv.analyze(data)\n",
    "\n",
    "report.show_html('eda_report.html')"
   ]
  },
  {
   "cell_type": "markdown",
   "id": "396c0f71",
   "metadata": {},
   "source": [
    "## Dividir os dados em dois conjuntos de dados"
   ]
  },
  {
   "cell_type": "code",
   "execution_count": 47,
   "id": "beaeedf2",
   "metadata": {},
   "outputs": [],
   "source": [
    "data1=data[0:400]\n",
    "data2=data[400:]"
   ]
  },
  {
   "cell_type": "markdown",
   "id": "bab2fa86",
   "metadata": {},
   "source": [
    "## Informações divididas entre dois Datasets"
   ]
  },
  {
   "cell_type": "code",
   "execution_count": 48,
   "id": "0e6a862f",
   "metadata": {},
   "outputs": [
    {
     "name": "stdout",
     "output_type": "stream",
     "text": [
      "<class 'pandas.core.frame.DataFrame'>\n",
      "Int64Index: 400 entries, 0 to 399\n",
      "Data columns (total 6 columns):\n",
      " #   Column               Non-Null Count  Dtype \n",
      "---  ------               --------------  ----- \n",
      " 0   Sexo                 400 non-null    object\n",
      " 1   Range_Idade          400 non-null    object\n",
      " 2   Total_Desempregados  400 non-null    int64 \n",
      " 3   Dia                  400 non-null    int64 \n",
      " 4   Ano                  400 non-null    int64 \n",
      " 5   Mês                  400 non-null    int64 \n",
      "dtypes: int64(4), object(2)\n",
      "memory usage: 21.9+ KB\n",
      "None\n"
     ]
    }
   ],
   "source": [
    "## Informação Original \n",
    "print(data1.info())"
   ]
  },
  {
   "cell_type": "code",
   "execution_count": 49,
   "id": "72a5e649",
   "metadata": {},
   "outputs": [
    {
     "name": "stdout",
     "output_type": "stream",
     "text": [
      "<class 'pandas.core.frame.DataFrame'>\n",
      "Int64Index: 468 entries, 400 to 867\n",
      "Data columns (total 6 columns):\n",
      " #   Column               Non-Null Count  Dtype \n",
      "---  ------               --------------  ----- \n",
      " 0   Sexo                 468 non-null    object\n",
      " 1   Range_Idade          468 non-null    object\n",
      " 2   Total_Desempregados  468 non-null    int64 \n",
      " 3   Dia                  468 non-null    int64 \n",
      " 4   Ano                  468 non-null    int64 \n",
      " 5   Mês                  468 non-null    int64 \n",
      "dtypes: int64(4), object(2)\n",
      "memory usage: 25.6+ KB\n",
      "None\n"
     ]
    }
   ],
   "source": [
    "## Informação Diária \n",
    "print(data2.info())"
   ]
  },
  {
   "cell_type": "markdown",
   "id": "70b84474",
   "metadata": {},
   "source": [
    "## Comparação entre os dois modelos de Varíaveis\n"
   ]
  },
  {
   "cell_type": "code",
   "execution_count": 50,
   "id": "92775f7e",
   "metadata": {},
   "outputs": [
    {
     "data": {
      "application/vnd.jupyter.widget-view+json": {
       "model_id": "e9bbdad409434a73afc6b472fa2aedd4",
       "version_major": 2,
       "version_minor": 0
      },
      "text/plain": [
       "                                             |          | [  0%]   00:00 -> (? left)"
      ]
     },
     "metadata": {},
     "output_type": "display_data"
    },
    {
     "name": "stdout",
     "output_type": "stream",
     "text": [
      "Report SWEETVIZ_REPORT.html was generated! NOTEBOOK/COLAB USERS: the web browser MAY not pop up, regardless, the report IS saved in your notebook/colab files.\n"
     ]
    }
   ],
   "source": [
    "comparacao = sv.compare(data1, data2)\n",
    "comparacao.show_html()"
   ]
  },
  {
   "cell_type": "markdown",
   "id": "bfb08baf",
   "metadata": {},
   "source": [
    "## Comparação entre Base Original e Base Validação"
   ]
  },
  {
   "cell_type": "code",
   "execution_count": 51,
   "id": "da86cb22",
   "metadata": {},
   "outputs": [
    {
     "data": {
      "application/vnd.jupyter.widget-view+json": {
       "model_id": "4ff334b86c054b52ab4a8677b49d25a1",
       "version_major": 2,
       "version_minor": 0
      },
      "text/plain": [
       "                                             |          | [  0%]   00:00 -> (? left)"
      ]
     },
     "metadata": {},
     "output_type": "display_data"
    },
    {
     "name": "stdout",
     "output_type": "stream",
     "text": [
      "Report Comparacao.html was generated! NOTEBOOK/COLAB USERS: the web browser MAY not pop up, regardless, the report IS saved in your notebook/colab files.\n"
     ]
    }
   ],
   "source": [
    "comparacao1 = sv.compare([data1, 'Base Original'], [data2,'Base Validação'])\n",
    "\n",
    "## gerando relatório\n",
    "comparacao1.show_html('Comparacao.html')"
   ]
  },
  {
   "cell_type": "markdown",
   "id": "9d072540",
   "metadata": {},
   "source": [
    "## Outros Relátorios"
   ]
  },
  {
   "cell_type": "markdown",
   "id": "e52c6927",
   "metadata": {},
   "source": [
    "** Gráficos ** \n",
    "\n",
    "* Total de Desempregados por Faixa Étaria \n",
    "* Total de Desempregos por Sexo \n",
    "* Total de Desempregados por Ano \n",
    "* Total de Desempregados por Mês"
   ]
  },
  {
   "cell_type": "markdown",
   "id": "60f6eee7",
   "metadata": {},
   "source": [
    "## Total de Desempregados por Faixa Étaria"
   ]
  },
  {
   "cell_type": "code",
   "execution_count": 124,
   "id": "3575511d",
   "metadata": {},
   "outputs": [
    {
     "data": {
      "image/png": "[encoded data removed]",
      "text/plain": [
       "<Figure size 1000x700 with 1 Axes>"
      ]
     },
     "metadata": {},
     "output_type": "display_data"
    }
   ],
   "source": [
    "\n",
    "sns.set(style='darkgrid')\n",
    "\n",
    "plt.figure(figsize=(10, 7))\n",
    "\n",
    "sns.barplot(\n",
    "    \n",
    "    x='Total_Desempregados', \n",
    "    y='Range_Idade',\n",
    "    data = data, \n",
    "    estimator=sum, \n",
    "    ci=None, \n",
    "    color='#00FFFF'\n",
    ");"
   ]
  },
  {
   "cell_type": "markdown",
   "id": "19f4d721",
   "metadata": {},
   "source": [
    "## Total de Desempregos por Sexo"
   ]
  },
  {
   "cell_type": "code",
   "execution_count": 89,
   "id": "c9e66ed4",
   "metadata": {},
   "outputs": [
    {
     "data": {
      "text/plain": [
       "<AxesSubplot:xlabel='Sexo', ylabel='Total_Desempregados'>"
      ]
     },
     "execution_count": 89,
     "metadata": {},
     "output_type": "execute_result"
    },
    {
     "data": {
      "image/png": "[encoded data removed]",
      "text/plain": [
       "<Figure size 600x400 with 1 Axes>"
      ]
     },
     "metadata": {},
     "output_type": "display_data"
    }
   ],
   "source": [
    "sns.violinplot(x=data[\"Sexo\"], y=data[\"Total_Desempregados\"])"
   ]
  },
  {
   "cell_type": "markdown",
   "id": "5a399bc5",
   "metadata": {},
   "source": [
    "## Total de Desempregados por Ano"
   ]
  },
  {
   "cell_type": "code",
   "execution_count": 116,
   "id": "2ce8c897",
   "metadata": {},
   "outputs": [
    {
     "data": {
      "text/plain": [
       "[<matplotlib.lines.Line2D at 0x7f923e0c8190>]"
      ]
     },
     "execution_count": 116,
     "metadata": {},
     "output_type": "execute_result"
    },
    {
     "data": {
      "image/png": "[encoded data removed]",
      "text/plain": [
       "<Figure size 800x600 with 1 Axes>"
      ]
     },
     "metadata": {},
     "output_type": "display_data"
    }
   ],
   "source": [
    "ano = data[\"Ano\"] \n",
    "total = data[\"Total_Desempregados\"]\n",
    "\n",
    "fig, ax = plt.subplots(figsize=(8,6)) \n",
    "ax.plot(ano, total)"
   ]
  },
  {
   "cell_type": "markdown",
   "id": "13fd06fe",
   "metadata": {},
   "source": [
    "## Total de Desempregados por Mês"
   ]
  },
  {
   "cell_type": "code",
   "execution_count": 120,
   "id": "304c5662",
   "metadata": {},
   "outputs": [
    {
     "data": {
      "text/plain": [
       "<AxesSubplot:xlabel='Mês', ylabel='Total_Desempregados'>"
      ]
     },
     "execution_count": 120,
     "metadata": {},
     "output_type": "execute_result"
    },
    {
     "data": {
      "image/png": "[encoded data removed]",
      "text/plain": [
       "<Figure size 600x400 with 1 Axes>"
      ]
     },
     "metadata": {},
     "output_type": "display_data"
    }
   ],
   "source": [
    "sns.boxplot(x=data[\"Mês\"], y=data[\"Total_Desempregados\"])"
   ]
  },
  {
   "cell_type": "markdown",
   "id": "d380d756",
   "metadata": {},
   "source": [
    "## Média de Desempregos por Sexo e Ano "
   ]
  },
  {
   "cell_type": "code",
   "execution_count": 134,
   "id": "9cba85e4",
   "metadata": {},
   "outputs": [
    {
     "data": {
      "text/html": [
       "<div>\n",
       "<style scoped>\n",
       "    .dataframe tbody tr th:only-of-type {\n",
       "        vertical-align: middle;\n",
       "    }\n",
       "\n",
       "    .dataframe tbody tr th {\n",
       "        vertical-align: top;\n",
       "    }\n",
       "\n",
       "    .dataframe thead th {\n",
       "        text-align: right;\n",
       "    }\n",
       "</style>\n",
       "<table border=\"1\" class=\"dataframe\">\n",
       "  <thead>\n",
       "    <tr style=\"text-align: right;\">\n",
       "      <th></th>\n",
       "      <th></th>\n",
       "      <th>Média</th>\n",
       "    </tr>\n",
       "    <tr>\n",
       "      <th>Sexo</th>\n",
       "      <th>Ano</th>\n",
       "      <th></th>\n",
       "    </tr>\n",
       "  </thead>\n",
       "  <tbody>\n",
       "    <tr>\n",
       "      <th rowspan=\"6\" valign=\"top\">Feminino</th>\n",
       "      <th>2010</th>\n",
       "      <td>345,845.24</td>\n",
       "    </tr>\n",
       "    <tr>\n",
       "      <th>2011</th>\n",
       "      <td>390,250.00</td>\n",
       "    </tr>\n",
       "    <tr>\n",
       "      <th>2012</th>\n",
       "      <td>380,988.10</td>\n",
       "    </tr>\n",
       "    <tr>\n",
       "      <th>2013</th>\n",
       "      <td>286,547.62</td>\n",
       "    </tr>\n",
       "    <tr>\n",
       "      <th>2014</th>\n",
       "      <td>222,261.90</td>\n",
       "    </tr>\n",
       "    <tr>\n",
       "      <th>2015</th>\n",
       "      <td>198,071.43</td>\n",
       "    </tr>\n",
       "    <tr>\n",
       "      <th rowspan=\"6\" valign=\"top\">Masculino</th>\n",
       "      <th>2010</th>\n",
       "      <td>402,464.29</td>\n",
       "    </tr>\n",
       "    <tr>\n",
       "      <th>2011</th>\n",
       "      <td>484,107.14</td>\n",
       "    </tr>\n",
       "    <tr>\n",
       "      <th>2012</th>\n",
       "      <td>549,130.95</td>\n",
       "    </tr>\n",
       "    <tr>\n",
       "      <th>2013</th>\n",
       "      <td>343,238.10</td>\n",
       "    </tr>\n",
       "    <tr>\n",
       "      <th>2014</th>\n",
       "      <td>252,190.48</td>\n",
       "    </tr>\n",
       "    <tr>\n",
       "      <th>2015</th>\n",
       "      <td>219,714.29</td>\n",
       "    </tr>\n",
       "  </tbody>\n",
       "</table>\n",
       "</div>"
      ],
      "text/plain": [
       "                     Média\n",
       "Sexo      Ano             \n",
       "Feminino  2010  345,845.24\n",
       "          2011  390,250.00\n",
       "          2012  380,988.10\n",
       "          2013  286,547.62\n",
       "          2014  222,261.90\n",
       "          2015  198,071.43\n",
       "Masculino 2010  402,464.29\n",
       "          2011  484,107.14\n",
       "          2012  549,130.95\n",
       "          2013  343,238.10\n",
       "          2014  252,190.48\n",
       "          2015  219,714.29"
      ]
     },
     "execution_count": 134,
     "metadata": {},
     "output_type": "execute_result"
    }
   ],
   "source": [
    "sexo__ano_desemprego_medio = data.groupby([\"Sexo\", \"Ano\"]).mean()[\"Total_Desempregados\"].rename(\"Média\") \n",
    "\n",
    "analise_sexo_ano = pd.DataFrame({\"Média\" : sexo__ano_desemprego_medio})\n",
    "\n",
    "analise_sexo_ano[\"Média\"] = analise_sexo_ano[\"Média\"].map(\"{:,.2f}\".format)\n",
    "analise_sexo_ano"
   ]
  },
  {
   "cell_type": "markdown",
   "id": "963100fd",
   "metadata": {},
   "source": [
    "## Média de Desempregos por Idade e Ano"
   ]
  },
  {
   "cell_type": "code",
   "execution_count": 138,
   "id": "223c5f2f",
   "metadata": {},
   "outputs": [
    {
     "data": {
      "text/html": [
       "<div>\n",
       "<style scoped>\n",
       "    .dataframe tbody tr th:only-of-type {\n",
       "        vertical-align: middle;\n",
       "    }\n",
       "\n",
       "    .dataframe tbody tr th {\n",
       "        vertical-align: top;\n",
       "    }\n",
       "\n",
       "    .dataframe thead th {\n",
       "        text-align: right;\n",
       "    }\n",
       "</style>\n",
       "<table border=\"1\" class=\"dataframe\">\n",
       "  <thead>\n",
       "    <tr style=\"text-align: right;\">\n",
       "      <th></th>\n",
       "      <th></th>\n",
       "      <th>Média</th>\n",
       "    </tr>\n",
       "    <tr>\n",
       "      <th>Range_Idade</th>\n",
       "      <th>Ano</th>\n",
       "      <th></th>\n",
       "    </tr>\n",
       "  </thead>\n",
       "  <tbody>\n",
       "    <tr>\n",
       "      <th rowspan=\"6\" valign=\"top\">16 to 19 anos</th>\n",
       "      <th>2010</th>\n",
       "      <td>141,875.00</td>\n",
       "    </tr>\n",
       "    <tr>\n",
       "      <th>2011</th>\n",
       "      <td>159,166.67</td>\n",
       "    </tr>\n",
       "    <tr>\n",
       "      <th>2012</th>\n",
       "      <td>174,375.00</td>\n",
       "    </tr>\n",
       "    <tr>\n",
       "      <th>2013</th>\n",
       "      <td>116,458.33</td>\n",
       "    </tr>\n",
       "    <tr>\n",
       "      <th>2014</th>\n",
       "      <td>87,875.00</td>\n",
       "    </tr>\n",
       "    <tr>\n",
       "      <th>2015</th>\n",
       "      <td>83,250.00</td>\n",
       "    </tr>\n",
       "    <tr>\n",
       "      <th rowspan=\"6\" valign=\"top\">20 to 24 anos</th>\n",
       "      <th>2010</th>\n",
       "      <td>338,708.33</td>\n",
       "    </tr>\n",
       "    <tr>\n",
       "      <th>2011</th>\n",
       "      <td>387,500.00</td>\n",
       "    </tr>\n",
       "    <tr>\n",
       "      <th>2012</th>\n",
       "      <td>398,000.00</td>\n",
       "    </tr>\n",
       "    <tr>\n",
       "      <th>2013</th>\n",
       "      <td>305,625.00</td>\n",
       "    </tr>\n",
       "    <tr>\n",
       "      <th>2014</th>\n",
       "      <td>227,958.33</td>\n",
       "    </tr>\n",
       "    <tr>\n",
       "      <th>2015</th>\n",
       "      <td>195,000.00</td>\n",
       "    </tr>\n",
       "    <tr>\n",
       "      <th rowspan=\"6\" valign=\"top\">25 to 34 anos</th>\n",
       "      <th>2010</th>\n",
       "      <td>554,208.33</td>\n",
       "    </tr>\n",
       "    <tr>\n",
       "      <th>2011</th>\n",
       "      <td>680,750.00</td>\n",
       "    </tr>\n",
       "    <tr>\n",
       "      <th>2012</th>\n",
       "      <td>720,583.33</td>\n",
       "    </tr>\n",
       "    <tr>\n",
       "      <th>2013</th>\n",
       "      <td>471,583.33</td>\n",
       "    </tr>\n",
       "    <tr>\n",
       "      <th>2014</th>\n",
       "      <td>371,583.33</td>\n",
       "    </tr>\n",
       "    <tr>\n",
       "      <th>2015</th>\n",
       "      <td>319,250.00</td>\n",
       "    </tr>\n",
       "    <tr>\n",
       "      <th rowspan=\"6\" valign=\"top\">35 to 44 anos</th>\n",
       "      <th>2010</th>\n",
       "      <td>481,583.33</td>\n",
       "    </tr>\n",
       "    <tr>\n",
       "      <th>2011</th>\n",
       "      <td>570,041.67</td>\n",
       "    </tr>\n",
       "    <tr>\n",
       "      <th>2012</th>\n",
       "      <td>630,000.00</td>\n",
       "    </tr>\n",
       "    <tr>\n",
       "      <th>2013</th>\n",
       "      <td>400,041.67</td>\n",
       "    </tr>\n",
       "    <tr>\n",
       "      <th>2014</th>\n",
       "      <td>281,791.67</td>\n",
       "    </tr>\n",
       "    <tr>\n",
       "      <th>2015</th>\n",
       "      <td>256,750.00</td>\n",
       "    </tr>\n",
       "    <tr>\n",
       "      <th rowspan=\"6\" valign=\"top\">45 to 54 anos</th>\n",
       "      <th>2010</th>\n",
       "      <td>537,166.67</td>\n",
       "    </tr>\n",
       "    <tr>\n",
       "      <th>2011</th>\n",
       "      <td>648,041.67</td>\n",
       "    </tr>\n",
       "    <tr>\n",
       "      <th>2012</th>\n",
       "      <td>718,125.00</td>\n",
       "    </tr>\n",
       "    <tr>\n",
       "      <th>2013</th>\n",
       "      <td>429,916.67</td>\n",
       "    </tr>\n",
       "    <tr>\n",
       "      <th>2014</th>\n",
       "      <td>306,750.00</td>\n",
       "    </tr>\n",
       "    <tr>\n",
       "      <th>2015</th>\n",
       "      <td>267,750.00</td>\n",
       "    </tr>\n",
       "    <tr>\n",
       "      <th rowspan=\"6\" valign=\"top\">55 to 64 anos</th>\n",
       "      <th>2010</th>\n",
       "      <td>388,875.00</td>\n",
       "    </tr>\n",
       "    <tr>\n",
       "      <th>2011</th>\n",
       "      <td>436,375.00</td>\n",
       "    </tr>\n",
       "    <tr>\n",
       "      <th>2012</th>\n",
       "      <td>449,916.67</td>\n",
       "    </tr>\n",
       "    <tr>\n",
       "      <th>2013</th>\n",
       "      <td>332,541.67</td>\n",
       "    </tr>\n",
       "    <tr>\n",
       "      <th>2014</th>\n",
       "      <td>248,958.33</td>\n",
       "    </tr>\n",
       "    <tr>\n",
       "      <th>2015</th>\n",
       "      <td>208,250.00</td>\n",
       "    </tr>\n",
       "    <tr>\n",
       "      <th rowspan=\"6\" valign=\"top\">65 anos e acima</th>\n",
       "      <th>2010</th>\n",
       "      <td>176,666.67</td>\n",
       "    </tr>\n",
       "    <tr>\n",
       "      <th>2011</th>\n",
       "      <td>178,375.00</td>\n",
       "    </tr>\n",
       "    <tr>\n",
       "      <th>2012</th>\n",
       "      <td>164,416.67</td>\n",
       "    </tr>\n",
       "    <tr>\n",
       "      <th>2013</th>\n",
       "      <td>148,083.33</td>\n",
       "    </tr>\n",
       "    <tr>\n",
       "      <th>2014</th>\n",
       "      <td>135,666.67</td>\n",
       "    </tr>\n",
       "    <tr>\n",
       "      <th>2015</th>\n",
       "      <td>132,000.00</td>\n",
       "    </tr>\n",
       "  </tbody>\n",
       "</table>\n",
       "</div>"
      ],
      "text/plain": [
       "                           Média\n",
       "Range_Idade     Ano             \n",
       "16 to 19 anos   2010  141,875.00\n",
       "                2011  159,166.67\n",
       "                2012  174,375.00\n",
       "                2013  116,458.33\n",
       "                2014   87,875.00\n",
       "                2015   83,250.00\n",
       "20 to 24 anos   2010  338,708.33\n",
       "                2011  387,500.00\n",
       "                2012  398,000.00\n",
       "                2013  305,625.00\n",
       "                2014  227,958.33\n",
       "                2015  195,000.00\n",
       "25 to 34 anos   2010  554,208.33\n",
       "                2011  680,750.00\n",
       "                2012  720,583.33\n",
       "                2013  471,583.33\n",
       "                2014  371,583.33\n",
       "                2015  319,250.00\n",
       "35 to 44 anos   2010  481,583.33\n",
       "                2011  570,041.67\n",
       "                2012  630,000.00\n",
       "                2013  400,041.67\n",
       "                2014  281,791.67\n",
       "                2015  256,750.00\n",
       "45 to 54 anos   2010  537,166.67\n",
       "                2011  648,041.67\n",
       "                2012  718,125.00\n",
       "                2013  429,916.67\n",
       "                2014  306,750.00\n",
       "                2015  267,750.00\n",
       "55 to 64 anos   2010  388,875.00\n",
       "                2011  436,375.00\n",
       "                2012  449,916.67\n",
       "                2013  332,541.67\n",
       "                2014  248,958.33\n",
       "                2015  208,250.00\n",
       "65 anos e acima 2010  176,666.67\n",
       "                2011  178,375.00\n",
       "                2012  164,416.67\n",
       "                2013  148,083.33\n",
       "                2014  135,666.67\n",
       "                2015  132,000.00"
      ]
     },
     "execution_count": 138,
     "metadata": {},
     "output_type": "execute_result"
    }
   ],
   "source": [
    "idade_desemprego_ano_medio = data.groupby([\"Range_Idade\", \"Ano\"]).mean()[\"Total_Desempregados\"].rename(\"Média\") \n",
    "\n",
    "analise_idade_ano = pd.DataFrame({\"Média\" : idade_desemprego_ano_medio})\n",
    "\n",
    "analise_idade_ano[\"Média\"] = analise_idade_ano[\"Média\"].map(\"{:,.2f}\".format)\n",
    "analise_idade_ano"
   ]
  }
 ],
 "metadata": {
  "kernelspec": {
   "display_name": "Python 3",
   "language": "python",
   "name": "python3"
  },
  "language_info": {
   "codemirror_mode": {
    "name": "ipython",
    "version": 3
   },
   "file_extension": ".py",
   "mimetype": "text/x-python",
   "name": "python",
   "nbconvert_exporter": "python",
   "pygments_lexer": "ipython3",
   "version": "3.8.8"
  }
 },
 "nbformat": 4,
 "nbformat_minor": 5
}
